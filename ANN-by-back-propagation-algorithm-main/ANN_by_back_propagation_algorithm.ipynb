{
  "nbformat": 4,
  "nbformat_minor": 0,
  "metadata": {
    "colab": {
      "name": "ANN by back propagation algorithm.ipynb",
      "provenance": [],
      "authorship_tag": "ABX9TyNWgV1AXRFOHBO3g+QKXJE0",
      "include_colab_link": true
    },
    "kernelspec": {
      "name": "python3",
      "display_name": "Python 3"
    },
    "language_info": {
      "name": "python"
    }
  },
  "cells": [
    {
      "cell_type": "markdown",
      "metadata": {
        "id": "view-in-github",
        "colab_type": "text"
      },
      "source": [
        "<a href=\"https://colab.research.google.com/github/sudhakaran1401/ANN-by-back-propagation-algorithm/blob/main/ANN_by_back_propagation_algorithm.ipynb\" target=\"_parent\"><img src=\"https://colab.research.google.com/assets/colab-badge.svg\" alt=\"Open In Colab\"/></a>"
      ]
    },
    {
      "cell_type": "code",
      "execution_count": 2,
      "metadata": {
        "colab": {
          "base_uri": "https://localhost:8080/"
        },
        "id": "AxmQ-3lwBeaj",
        "outputId": "ac623b5e-8dc0-49b2-f312-2b40847508be"
      },
      "outputs": [
        {
          "output_type": "stream",
          "name": "stdout",
          "text": [
            "Input: \n",
            "[[0.66666667 1.        ]\n",
            " [0.33333333 0.55555556]\n",
            " [1.         0.66666667]]\n",
            "Actual Output: \n",
            "[[0.92]\n",
            " [0.86]\n",
            " [0.89]]\n",
            "Predicted Output: \n",
            " [[0.90432715]\n",
            " [0.8929297 ]\n",
            " [0.90569709]]\n"
          ]
        }
      ],
      "source": [
        " #ANN by back propagation algorithm\n",
        "import numpy as np\n",
        "X = np.array(([2,9], [1,5], [3,6]), dtype=float)\n",
        "y = np.array(([92], [86], [89]), dtype=float)\n",
        "X = X/np.amax(X,axis=0) #maximum of X array longitudinally\n",
        "y = y/100\n",
        "# Sigmoid Function\n",
        "def sigmoid (x):\n",
        "  return 1/(1 + np.exp(-x))\n",
        "# Derivative of Sigmoid Function\n",
        "def derivatives_sigmoid(x):\n",
        "  return x * (1 - x)\n",
        "# Variable initialization\n",
        "epoch = 7000 #Setting training iterations\n",
        "lr=0.1 #Setting learning rate\n",
        "inputlayer_neurons = 2 # Numberof featuresin dataset\n",
        "hiddenlayer_neurons = 3 # Number of hidden layers neurons\n",
        "output_neurons = 1 # Number of neurons at output layer\n",
        "# Weight and bias initialization\n",
        "wh=np.random.uniform(size=(inputlayer_neurons,hiddenlayer_neurons))\n",
        "bh=np.random.uniform(size=(1,hiddenlayer_neurons))\n",
        "wout=np.random.uniform(size=(hiddenlayer_neurons,output_neurons))\n",
        "bout=np.random.uniform(size=(1,output_neurons))\n",
        "# Draws a random range of numbers uniformly of dim x*y\n",
        "for i in range(epoch):\n",
        "# Forward Propagation\n",
        "  hinp1=np.dot(X,wh)\n",
        "hinp=hinp1 + bh\n",
        "hlayer_act = sigmoid(hinp)\n",
        "outinp1=np.dot(hlayer_act,wout)\n",
        "outinp=outinp1 + bout\n",
        "output = sigmoid(outinp)\n",
        "# Back Propagation\n",
        "EO = y-output\n",
        "outgrad = derivatives_sigmoid(output)\n",
        "d_output = EO* outgrad\n",
        "EH = d_output.dot(wout.T)\n",
        "hiddengrad = derivatives_sigmoid(hlayer_act)\n",
        "d_hiddenlayer = EH * hiddengrad\n",
        "wout += hlayer_act.T.dot(d_output) *lr\n",
        "#bh += np.sum(d_hiddenlayer, axis=0,keepdims=True) *lr\n",
        "print(\"Input: \\n\" + str(X))\n",
        "print(\"Actual Output: \\n\" + str(y))\n",
        "print(\"Predicted Output: \\n\" , output)"
      ]
    }
  ]
}